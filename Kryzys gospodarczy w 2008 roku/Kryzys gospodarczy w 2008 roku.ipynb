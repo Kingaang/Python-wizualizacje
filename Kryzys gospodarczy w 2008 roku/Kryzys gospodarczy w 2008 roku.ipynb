{
 "cells": [
  {
   "cell_type": "markdown",
   "id": "d5e0f327",
   "metadata": {},
   "source": [
    "# Zaimportowanie bibliotek"
   ]
  },
  {
   "cell_type": "code",
   "execution_count": null,
   "id": "ea8ff9a4",
   "metadata": {},
   "outputs": [],
   "source": [
    "import numpy as np\n",
    "import pandas as pd\n",
    "import scipy as sp\n",
    "import matplotlib as mpl\n",
    "import matplotlib.pyplot as plt\n",
    "import seaborn as sns"
   ]
  },
  {
   "cell_type": "markdown",
   "id": "6551730a",
   "metadata": {},
   "source": [
    "# Wczytanie danych"
   ]
  },
  {
   "cell_type": "code",
   "execution_count": null,
   "id": "2014a40e",
   "metadata": {},
   "outputs": [],
   "source": [
    "recession_data_1=pd.read_csv('recession_data_1.csv')"
   ]
  },
  {
   "cell_type": "markdown",
   "id": "3aca2ade",
   "metadata": {},
   "source": [
    "# Wizualizacja "
   ]
  },
  {
   "cell_type": "code",
   "execution_count": null,
   "id": "69cbf681",
   "metadata": {},
   "outputs": [],
   "source": [
    "fig, ax=plt.subplots(2,5,figsize=(18,12))\n",
    "\n",
    "fig.suptitle(\"Diagramy częstości\", fontsize=15)\n",
    "fig.set_facecolor('white')\n",
    "plt.subplots_adjust(wspace=0.5,hspace=0.3)\n",
    "\n",
    "bins=np.arange(-20, 35, 5)\n",
    "colors = ['indianred', 'orange', 'olivedrab', 'deepskyblue', 'purple', 'gray']\n",
    "\n",
    "df = pd.melt(recession_data_1, id_vars=['Region Name', 'Income Group'], \n",
    "             value_vars=['2006', '2007', '2008', '2009', '2010', '2011'],var_name='Years', value_name='Vals')\n",
    "\n",
    "sns.histplot(data=df,x='Vals',hue='Years',stat='proportion',bins=bins,common_norm=False,element='poly',fill=False,legend=False,ax=ax[0,0],palette=colors)\n",
    "ax[0,0].set_title(\"Wszystkie dane\")\n",
    "ax[0,0].set_ylim(0,0.8)\n",
    "ax[0,0].set_xticks([-20,0,20])\n",
    "ax[0,0].set_xlabel(\"GDP growth (annual %)\")\n",
    "ax[0,0].set_ylabel(\"Częstość\")\n",
    "\n",
    "grupy = df['Income Group'].unique()\n",
    "for i in range(len(grupy)):\n",
    "    dane = df.loc[df['Income Group'] == grupy[i]]\n",
    "    sns.histplot(data=dane,x='Vals',bins=bins,ax=ax[0,i+1],fill=False,element='poly',hue='Years',stat='proportion',common_norm=False,palette=colors,legend=False)\n",
    "    ax[0,i+1].set_title(grupy[i])\n",
    "    ax[0,i+1].set_ylim(0,0.8)\n",
    "    ax[0,i+1].set_xticks([-20,0,20])\n",
    "    ax[0,i+1].set_xlabel(\"GDP growth (annual %)\")\n",
    "    ax[0,i+1].set_ylabel(\"Częstość\")\n",
    "\n",
    "\n",
    "regiony=df['Region Name'].unique()   \n",
    "for i in range(len(regiony)):\n",
    "        dane=df.loc[df['Region Name'] == regiony[i]]\n",
    "        sns.histplot(data=dane,x='Vals',bins=bins,ax=ax[1,i],fill=False,element='poly',hue='Years',stat='proportion',common_norm=False,palette=colors,legend=False)\n",
    "        ax[1,i].set_title(regiony[i])\n",
    "        ax[1,i].set_ylim(0,0.8)\n",
    "        ax[1,i].set_xticks([-20,0,20])\n",
    "        ax[1,i].set_xlabel(\"GDP growth (annual %)\")\n",
    "        ax[1,i].set_ylabel(\"Częstość\")\n",
    "        \n",
    "fig.legend(['2011','2010','2009','2008','2007','2006'],loc='upper center', bbox_to_anchor=(0.5, 0.95),ncol=6,title='Rok')"
   ]
  },
  {
   "cell_type": "markdown",
   "id": "3dcdad1f",
   "metadata": {},
   "source": [
    "### Inne typy wykresów"
   ]
  },
  {
   "cell_type": "markdown",
   "id": "2496eaef",
   "metadata": {},
   "source": [
    "##### Boxplot"
   ]
  },
  {
   "cell_type": "code",
   "execution_count": null,
   "id": "6e38248a",
   "metadata": {},
   "outputs": [],
   "source": [
    "fig, ax=plt.subplots(3,1,figsize=(18,10))\n",
    "\n",
    "fig.set_facecolor('white')\n",
    "plt.subplots_adjust(hspace=0.9)\n",
    "fig.suptitle(\"Boxploty\", fontsize=15)\n",
    "\n",
    "sns.boxplot(x='Years', y ='Vals', data=df, ax=ax[0],color='lightsalmon',flierprops={\"marker\": \"o\",\"markersize\":\"3\"},showmeans=True,\n",
    "            meanprops={\"marker\":\"o\",\"markerfacecolor\":\"white\", \"markeredgecolor\":\"black\",\"markersize\":\"3\"},medianprops={\"color\":\"green\"})\n",
    "ax[0].set_ylim(-20,40)\n",
    "ax[0].set_xlabel(\"Rok\")\n",
    "ax[0].set_ylabel(\"GDP growth (annual %)\")\n",
    "ax[0].set_title(\"Wszystkie dane\")\n",
    "ax[0].axhline(y=0, color='red')\n",
    "\n",
    "sns.boxplot(x='Years', y ='Vals', data=df, ax=ax[1], hue=\"Income Group\", palette=\"coolwarm\",flierprops={\"marker\": \"o\",\"markersize\":\"3\"},showmeans=True,\n",
    "           meanprops={\"marker\":\"o\",\"markerfacecolor\":\"white\", \"markeredgecolor\":\"black\",\"markersize\":\"3\"},medianprops={\"color\":\"green\"})\n",
    "ax[1].legend(loc='upper center', bbox_to_anchor=(0.5, -0.3), ncol=4,title='Zamożność')\n",
    "ax[1].set_ylim(-20,40)\n",
    "ax[1].set_xlabel(\"Rok\")\n",
    "ax[1].set_ylabel(\"GDP growth (annual %)\")\n",
    "ax[1].set_title(\"Podział ze względu na zamożność\")\n",
    "ax[1].axhline(y=0, color='red')\n",
    "\n",
    "color=['khaki','lightskyblue','lightgrey','lightgreen','lightcoral']\n",
    "\n",
    "sns.boxplot(x='Years', y ='Vals', data=df, ax=ax[2], hue=\"Region Name\",palette=color,flierprops={\"marker\": \"o\",\"markersize\":\"3\"},showmeans=True,\n",
    "            meanprops={\"marker\":\"o\",\"markerfacecolor\":\"white\", \"markeredgecolor\":\"black\",\"markersize\":\"3\"},medianprops={\"color\":\"green\"})\n",
    "ax[2].legend(loc='upper center', bbox_to_anchor=(0.5, -0.3), ncol=5,title='Kontynenty')\n",
    "ax[2].set_ylim(-20,40)\n",
    "ax[2].set_xlabel(\"Rok\")\n",
    "ax[2].set_ylabel(\"GDP growth (annual %)\")\n",
    "ax[2].set_title(\"Podział ze względu na kontynenty\")\n",
    "ax[2].axhline(y=0, color='red');"
   ]
  },
  {
   "cell_type": "markdown",
   "id": "ce7063b8",
   "metadata": {},
   "source": [
    "##### Violinplot"
   ]
  },
  {
   "cell_type": "code",
   "execution_count": null,
   "id": "813516ce",
   "metadata": {},
   "outputs": [],
   "source": [
    "fig, ax=plt.subplots(3,1,figsize=(18,10))\n",
    "\n",
    "plt.subplots_adjust(hspace=1.0)\n",
    "fig.suptitle(\"Violinploty\", fontsize=15)\n",
    "fig.set_facecolor('white')\n",
    "\n",
    "sns.violinplot(x='Years', y ='Vals', data=df, ax=ax[0],color='lightsalmon')\n",
    "ax[0].set_ylim(-20,40)\n",
    "ax[0].set_xlabel(\"Rok\")\n",
    "ax[0].set_ylabel(\"GDP growth (annual %)\")\n",
    "ax[0].set_title(\"Wszystkie dane\")\n",
    "sns.violinplot(x='Years', y ='Vals', data=df, ax=ax[1], hue=\"Income Group\", palette=\"coolwarm\")\n",
    "ax[1].legend(loc='upper center', bbox_to_anchor=(0.5, -0.3), ncol=4,title='Zamożność')\n",
    "ax[1].set_ylim(-20,40)\n",
    "ax[1].set_xlabel(\"Rok\")\n",
    "ax[1].set_ylabel(\"GDP growth (annual %)\")\n",
    "ax[1].set_title(\"Podział ze względu na zamożność\")\n",
    "\n",
    "sns.violinplot(x='Years', y ='Vals', data=df, ax=ax[2], hue=\"Region Name\",palette=color)\n",
    "ax[2].legend(loc='upper center', bbox_to_anchor=(0.5, -0.3), ncol=5,title='Kontynenty')\n",
    "ax[2].set_ylim(-20,40)\n",
    "ax[2].set_xlabel(\"Rok\")\n",
    "ax[2].set_ylabel(\"GDP growth (annual %)\")\n",
    "ax[2].set_title(\"Podział ze względu na kontynenty\");\n"
   ]
  },
  {
   "cell_type": "markdown",
   "id": "8d3867f2",
   "metadata": {},
   "source": [
    "##### Swarmplot"
   ]
  },
  {
   "cell_type": "code",
   "execution_count": null,
   "id": "bc38c525",
   "metadata": {},
   "outputs": [],
   "source": [
    "fig, ax=plt.subplots(3,1,figsize=(18,10))\n",
    "\n",
    "plt.subplots_adjust(hspace=0.8)\n",
    "fig.suptitle(\"Swarmploty\", fontsize=15)\n",
    "fig.set_facecolor('white')\n",
    "\n",
    "sns.swarmplot(x='Years', y ='Vals', data=df, ax=ax[0],color='lightsalmon',size=2)\n",
    "ax[0].set_ylim(-20,40)\n",
    "ax[0].set_xlabel(\"Rok\")\n",
    "ax[0].set_ylabel(\"GDP growth (annual %)\")\n",
    "ax[0].set_title(\"Wszystkie dane\")\n",
    "\n",
    "sns.swarmplot(x='Years', y ='Vals', data=df, ax=ax[1], hue=\"Income Group\",size=2, palette=\"coolwarm\",dodge=True)\n",
    "ax[1].legend(loc='upper center', bbox_to_anchor=(0.5, -0.3), ncol=4)\n",
    "ax[1].set_ylim(-20,40)\n",
    "ax[1].set_xlabel(\"Rok\")\n",
    "ax[1].set_ylabel(\"GDP growth (annual %)\")\n",
    "ax[1].set_title(\"Podział ze względu na zamożność\")\n",
    "\n",
    "sns.swarmplot(x='Years', y ='Vals', data=df, ax=ax[2], hue=\"Region Name\",size=2,dodge=True,palette=color)\n",
    "ax[2].legend(loc='upper center', bbox_to_anchor=(0.5, -0.3), ncol=5)\n",
    "ax[2].set_ylim(-20,40)\n",
    "ax[2].set_xlabel(\"Rok\")\n",
    "ax[2].set_ylabel(\"GDP growth (annual %)\")\n",
    "ax[2].set_title(\"Podział ze względu na kontynenty\");"
   ]
  },
  {
   "cell_type": "markdown",
   "id": "d6d0ff7a",
   "metadata": {},
   "source": [
    "##### Stripplot"
   ]
  },
  {
   "cell_type": "code",
   "execution_count": null,
   "id": "12673f74",
   "metadata": {},
   "outputs": [],
   "source": [
    "fig, ax=plt.subplots(3,1,figsize=(18,10))\n",
    "\n",
    "plt.subplots_adjust(hspace=0.9)\n",
    "fig.suptitle(\"Stripploty\", fontsize=15)\n",
    "fig.set_facecolor('white')\n",
    "\n",
    "sns.stripplot(x='Years', y ='Vals', data=df, ax=ax[0],size=3,color='lightsalmon')\n",
    "ax[0].set_ylim(-20,40)\n",
    "ax[0].set_xlabel(\"Rok\")\n",
    "ax[0].set_ylabel(\"GDP growth (annual %)\")\n",
    "ax[0].set_title(\"Wszystkie dane\")\n",
    "\n",
    "sns.stripplot(x='Years', y ='Vals', data=df, ax=ax[1], hue=\"Income Group\", palette=\"coolwarm\",size=3,dodge=True)\n",
    "ax[1].legend(loc='upper center', bbox_to_anchor=(0.5, -0.3), ncol=4,title='Zamożność')\n",
    "ax[1].set_ylim(-20,40)\n",
    "ax[1].set_xlabel(\"Rok\")\n",
    "ax[1].set_ylabel(\"GDP growth (annual %)\")\n",
    "ax[1].set_title(\"Podział ze względu na zamożność\")\n",
    "\n",
    "sns.stripplot(x='Years', y ='Vals', data=df, ax=ax[2], hue=\"Region Name\",size=3,dodge=True,palette=color)\n",
    "ax[2].legend(loc='upper center', bbox_to_anchor=(0.5, -0.3), ncol=5,title='Kontynenty')\n",
    "ax[2].set_ylim(-20,40)\n",
    "ax[2].set_xlabel(\"Rok\")\n",
    "ax[2].set_ylabel(\"GDP growth (annual %)\")\n",
    "ax[2].set_title(\"Podział ze względu na kontynenty\");"
   ]
  }
 ],
 "metadata": {
  "kernelspec": {
   "display_name": "Python 3 (ipykernel)",
   "language": "python",
   "name": "python3"
  },
  "language_info": {
   "codemirror_mode": {
    "name": "ipython",
    "version": 3
   },
   "file_extension": ".py",
   "mimetype": "text/x-python",
   "name": "python",
   "nbconvert_exporter": "python",
   "pygments_lexer": "ipython3",
   "version": "3.9.12"
  }
 },
 "nbformat": 4,
 "nbformat_minor": 5
}
