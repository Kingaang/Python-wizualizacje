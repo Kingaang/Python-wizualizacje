{
 "cells": [
  {
   "cell_type": "markdown",
   "id": "62460261",
   "metadata": {},
   "source": [
    "# Zaimportowanie bibliotek"
   ]
  },
  {
   "cell_type": "code",
   "execution_count": null,
   "id": "78d6e386",
   "metadata": {},
   "outputs": [],
   "source": [
    "import numpy as np\n",
    "import pandas as pd\n",
    "import scipy as sp\n",
    "import matplotlib as mpl\n",
    "import matplotlib.pyplot as plt\n",
    "import seaborn as sns"
   ]
  },
  {
   "cell_type": "markdown",
   "id": "88a20d8e",
   "metadata": {},
   "source": [
    "# Wczytanie danych\n"
   ]
  },
  {
   "cell_type": "code",
   "execution_count": null,
   "id": "a4345e6d",
   "metadata": {},
   "outputs": [],
   "source": [
    "vei_data_1=pd.read_csv('vei_data_1.csv')\n",
    "vei_data_2=pd.read_csv('vei_data_2.csv')\n",
    "vei_data_3=pd.read_csv('vei_data_3.csv')\n",
    "eruptions_data=pd.read_csv('eruptions_data.csv')"
   ]
  },
  {
   "cell_type": "markdown",
   "id": "3dd40823",
   "metadata": {},
   "source": [
    "# Wizualizacja"
   ]
  },
  {
   "cell_type": "markdown",
   "id": "f81816dc",
   "metadata": {},
   "source": [
    "#### Szeregi"
   ]
  },
  {
   "cell_type": "code",
   "execution_count": null,
   "id": "a17c360a",
   "metadata": {},
   "outputs": [],
   "source": [
    "fig, ax=plt.subplots(1,3,figsize=(16,8),sharex=True)\n",
    "\n",
    "fig.suptitle(\"Szeregi rozdzielcze dla wszystkich,potwierdzonych i niepotwierdzonych erupcji\", fontsize=15)\n",
    "plt.subplots_adjust(wspace=0.5)\n",
    "ax[0].bar(vei_data_1.index, vei_data_1['f'], color='darkturquoise', edgecolor='black', linewidth=1)\n",
    "ax[0].set_title('Wszystkie erupcje')\n",
    "ax[0].set_xlabel('VEI')\n",
    "ax[0].set_ylabel('Zliczenia', color='darkturquoise')\n",
    "ax[0].tick_params(axis='y', labelcolor='darkturquoise')\n",
    "ax[0].set_ylim(0,4500)\n",
    "ax[0].set_xticks(vei_data_1.index)\n",
    "\n",
    "ax1 = ax[0].twinx() #aby była druga oś po prawej stronie\n",
    "ax1.plot(vei_data_1.index, vei_data_1['crf'], color='red', marker='o')\n",
    "ax1.set_ylabel('Częstość skumulowana', color='red')\n",
    "ax1.tick_params(axis='y', labelcolor='red')\n",
    "ax1.set_ylim(0)\n",
    "\n",
    "ax[1].bar(vei_data_2.index, vei_data_2['f'], color='salmon', edgecolor='black', linewidth=1)\n",
    "ax[1].set_title('Potwierdzone erupcje')\n",
    "ax[1].set_xlabel('VEI')\n",
    "ax[1].set_ylabel('Zliczenia', color='salmon')\n",
    "ax[1].tick_params(axis='y', labelcolor='salmon') \n",
    "ax[1].set_ylim(0,4500)\n",
    "ax[1].set_xticks(vei_data_2.index)\n",
    "\n",
    "ax2 = ax[1].twinx() \n",
    "ax2.plot(vei_data_2.index, vei_data_2['crf'], color='darkgreen', marker='o')\n",
    "ax2.set_ylabel('Częstość skumulowana', color='darkgreen')\n",
    "ax2.tick_params(axis='y', labelcolor='darkgreen')\n",
    "ax2.set_ylim(0)\n",
    "\n",
    "ax[2].bar(vei_data_3.index, vei_data_3['f'], color='gold', edgecolor='black', linewidth=1)\n",
    "ax[2].set_title('Niepotwierdzone erupcje')\n",
    "ax[2].set_xlabel('VEI')\n",
    "ax[2].set_ylabel('Zliczenia', color='gold')\n",
    "ax[2].tick_params(axis='y', labelcolor='gold') \n",
    "ax[2].set_ylim(0,4500)\n",
    "ax[2].set_xticks(vei_data_1.index)\n",
    "\n",
    "ax3= ax[2].twinx() \n",
    "ax3.plot(vei_data_3.index, vei_data_3['crf'], color='navy', marker='o')\n",
    "ax3.set_ylabel('Częstość skumulowana', color='navy')\n",
    "ax3.tick_params(axis='y', labelcolor='navy')\n",
    "ax3.set_ylim(0);"
   ]
  },
  {
   "cell_type": "markdown",
   "id": "ceb6fd12",
   "metadata": {},
   "source": [
    "#### Rozkład"
   ]
  },
  {
   "cell_type": "code",
   "execution_count": null,
   "id": "e98d045e",
   "metadata": {},
   "outputs": [],
   "source": [
    "fig, ax = plt.subplots(2,1,figsize=(18, 14))\n",
    "fig.suptitle(\"Rozkład zarejestrowanych erupcji w czasie\", fontsize=15)\n",
    "    \n",
    "sns.stripplot(x='VEI', y='Start Year', data=eruptions_data, ax=ax[0])\n",
    "ax[0].set_xlabel('VEI')\n",
    "ax[0].set_ylabel('Rok')\n",
    "ax[0].set_title('Rozkład zarejestrowanych erupcji po VEI')\n",
    "ax[0].xaxis.set_major_formatter(plt.FormatStrFormatter('%d'))\n",
    "\n",
    "sns.stripplot(x='VEI', y='Start Year', hue='Evidence Type', data=eruptions_data, ax=ax[1], jitter=True,dodge=True)\n",
    "ax[1].set_xlabel('VEI')\n",
    "ax[1].set_ylabel('Rok')\n",
    "ax[1].set_title('Rozkład zarejestrowanych erupcji po VEI i Evidence Type')\n",
    "ax[1].legend(loc='upper center', bbox_to_anchor=(0.5, -0.1), ncol=6)\n",
    "ax[1].xaxis.set_major_formatter(plt.FormatStrFormatter('%d'))"
   ]
  }
 ],
 "metadata": {
  "kernelspec": {
   "display_name": "Python 3 (ipykernel)",
   "language": "python",
   "name": "python3"
  },
  "language_info": {
   "codemirror_mode": {
    "name": "ipython",
    "version": 3
   },
   "file_extension": ".py",
   "mimetype": "text/x-python",
   "name": "python",
   "nbconvert_exporter": "python",
   "pygments_lexer": "ipython3",
   "version": "3.9.12"
  }
 },
 "nbformat": 4,
 "nbformat_minor": 5
}
