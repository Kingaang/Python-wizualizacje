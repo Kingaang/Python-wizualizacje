{
 "cells": [
  {
   "cell_type": "markdown",
   "id": "bc3d6f86",
   "metadata": {},
   "source": [
    "# Zaimportowanie bibliotek"
   ]
  },
  {
   "cell_type": "code",
   "execution_count": null,
   "id": "f86ab1bd",
   "metadata": {},
   "outputs": [],
   "source": [
    "import numpy as np\n",
    "import pandas as pd\n",
    "import scipy as sp\n",
    "import matplotlib as mpl\n",
    "import matplotlib.pyplot as plt\n",
    "import seaborn as sns"
   ]
  },
  {
   "cell_type": "markdown",
   "id": "15f3c3d6",
   "metadata": {},
   "source": [
    "# Wczytanie danych"
   ]
  },
  {
   "cell_type": "code",
   "execution_count": null,
   "id": "92f34c41",
   "metadata": {},
   "outputs": [],
   "source": [
    "daily_bike_traffic_data=pd.read_pickle(\"daily_bike_traffic_data.pkl\")\n",
    "bike_traffic_by_weekday_data=pd.read_pickle(\"bike_traffic_by_weekday_data.pkl\")\n",
    "weekday_weekend_hourly_bike_traffic_data=pd.read_pickle(\"weekday_weekend_hourly_bike_traffic_data.pkl\")\n",
    "weather_data=pd.read_pickle(\"weather_data.pkl\")"
   ]
  },
  {
   "cell_type": "markdown",
   "id": "7662fd4c",
   "metadata": {},
   "source": [
    "# Wizualizacja"
   ]
  },
  {
   "cell_type": "markdown",
   "id": "e6d64187",
   "metadata": {},
   "source": [
    "#### Ruch rowerowy"
   ]
  },
  {
   "cell_type": "code",
   "execution_count": null,
   "id": "11d1c1b1",
   "metadata": {},
   "outputs": [],
   "source": [
    "fig, ax=plt.subplots(2,3,figsize=(20,15))\n",
    "\n",
    "fig.suptitle(\"Ruch rowerowy\", fontsize=20)\n",
    "fig.set_facecolor('white')\n",
    "plt.subplots_adjust(wspace=0.3,hspace=0.3)\n",
    "\n",
    "ax[0, 0].axis('off')\n",
    "ax[0, 1].axis('off')\n",
    "ax[0, 2].axis('off')\n",
    "gs = fig.add_gridspec(2, 3, hspace=0.5)\n",
    "ax1 = fig.add_subplot(gs[0,:])\n",
    "colors =['royalblue','forestgreen','tomato']\n",
    "daily_bike_traffic_data.plot.line(ax=ax1,color =colors,legend=False)\n",
    "ax1.set_ylim(0,5000)\n",
    "ax1.set_ylabel(\"Liczba rowerzystów\",fontsize=12)\n",
    "ax1.set_xlabel(\"Data\",fontsize=12)\n",
    "ax1.set_title(\"Suma rowerzystów przejeżdżająca przez most w poszczególnych dniach roku \", fontsize=15);\n",
    "\n",
    "bike_traffic_by_weekday_data.plot.line(ax=ax[1,0],color =colors,legend=False)\n",
    "ax[1,0].set_ylim(0,3000)\n",
    "ax[1,0].set_xlim(0,6)\n",
    "ax[1,0].set_xticks([0,1,2,3,4,5,6]);\n",
    "ax[1,0].set_xticklabels(bike_traffic_by_weekday_data.index, rotation=45);\n",
    "ax[1,0].set_title(\"Średnia liczba rowerzystów przejeżdżająca przez most\\nw poszczególne dni tygodnia\",fontsize=13)\n",
    "ax[1,0].set_ylabel(\"Liczba rowerzystów\",fontsize=12)\n",
    "ax[1,0].set_xlabel(\"Dni tygodnia\",fontsize=12);\n",
    "\n",
    "weekday_weekend_hourly_bike_traffic_data[\"Weekday\"].plot.line(ax=ax[1,1],color=colors,legend=False)\n",
    "ax[1,1].set_ylim(0,350)\n",
    "ax[1,1].set_xlim(0,23)\n",
    "ax[1,1].set_xticks([0,5,10,15,20]);\n",
    "ax[1,1].set_title(\"Średnia liczba rowerzystów przejeżdżająca przez most\\nw poszczególnych godzinach w dni robocze \",fontsize=13)\n",
    "ax[1,1].set_ylabel(\"Liczba rowerzystów\",fontsize=12)\n",
    "ax[1,1].set_xlabel(\"Godzina\",fontsize=12)\n",
    "\n",
    "weekday_weekend_hourly_bike_traffic_data[\"Weekend\"].plot.line(ax=ax[1,2],color=colors,legend=False)\n",
    "ax[1,2].set_ylim(0,350)\n",
    "ax[1,2].set_xlim(0,23) \n",
    "ax[1,2].set_xticks([0,5,10,15,20])\n",
    "ax[1,2].set_title(\"Średnia liczba rowerzystów przejeżdżająca przez most\\nw poszczególnych godzinach w weekendy \",fontsize=13)\n",
    "ax[1,2].set_ylabel(\"Liczba rowerzystów\",fontsize=12)\n",
    "ax[1,2].set_xlabel(\"Godzina\",fontsize=12)\n",
    "\n",
    "fig.legend(labels=daily_bike_traffic_data.columns, loc='lower center', ncol=3, fontsize=15);"
   ]
  },
  {
   "cell_type": "markdown",
   "id": "01ac9e3d",
   "metadata": {},
   "source": [
    "#### Pogoda"
   ]
  },
  {
   "cell_type": "code",
   "execution_count": null,
   "id": "576006dd",
   "metadata": {},
   "outputs": [],
   "source": [
    "fig, ax=plt.subplots(3,1,figsize=(20,15))\n",
    "\n",
    "fig.suptitle(\"Dane pogodowe\", fontsize=20)\n",
    "fig.set_facecolor('white')\n",
    "plt.subplots_adjust(hspace=0.7)\n",
    "\n",
    "weather_data[\"Temperature\"].interpolate().plot.line(ax=ax[0],legend=False,color=[\"navy\",\"darkgreen\",\"crimson\"],linewidth=2)\n",
    "ax[0].fill_between(weather_data.index, weather_data[(\"Temperature\",\"Min\")], weather_data[(\"Temperature\",\"Max\")]\n",
    "                   , alpha=0.3, color=\"violet\",label=\"Temperature, Fill\")\n",
    "ax[0].set_ylim(-20,40)\n",
    "ax[0].set_ylabel(\"Temperatura [°C]\",fontsize=13)\n",
    "ax[0].set_xlabel(\"Data\",fontsize=13)\n",
    "ax[0].set_title(\"Temperatura dzienna (minimalna, średnia i maksymalna)\", fontsize=15);\n",
    "\n",
    "\n",
    "weather_data[\"Sky\"].plot.area(ax=ax[1],alpha=0.3,color=\"dimgrey\", linewidth=2,legend=False,label=\"Sky, Cloud cover\")\n",
    "ax[1].set_ylim(0.0,1.0)\n",
    "ax[1].set_ylabel('Zachmurzenie', color='dimgrey',fontsize=13)\n",
    "ax[1].tick_params(axis='y', labelcolor='dimgrey')\n",
    "\n",
    "ax1 = ax[1].twinx() \n",
    "weather_data[\"Precipitation\"].plot.area(ax=ax1,alpha=0.3,color=\"blue\", linewidth=2,legend=False,label=\"Precipitation, Total\")\n",
    "ax1.set_ylim(0,100)\n",
    "ax1.set_ylabel('Opady [mm]', color='blue',fontsize=13)\n",
    "ax1.tick_params(axis='y', labelcolor='blue')\n",
    "ax[1].set_xlabel(\"Data\",fontsize=13)\n",
    "ax[1].set_title(\"Dzienne zachmurzenie i opady\", fontsize=15);\n",
    "\n",
    "\n",
    "weather_data[\"Wind\"].plot.line(ax=ax[2],legend=False, color=[\"brown\",\"orange\"], linewidth=2)\n",
    "ax[2].set_ylim(0.0,20.0)\n",
    "ax[2].set_ylabel(\"Prędkość wiatru [m/s]\",fontsize=13)\n",
    "ax[2].set_xlabel(\"Data\",fontsize=13)\n",
    "ax[2].set_title(\"Dzienna średnia i maksymalna prędkość wiatru \", fontsize=15);\n",
    "\n",
    "\n",
    "handles, labels = [], ['Temperature, Min', 'Temperature, Avg', 'Temperature, Max', 'Temperature, Fill','Sky, Cloud cover','Wind, Avg speed','Wind, Max speed','Precipitation, Total']\n",
    "for ax in fig.axes:\n",
    "    h, l = ax.get_legend_handles_labels()\n",
    "    handles += h\n",
    "    labels += l\n",
    "fig.legend(handles, labels, loc='lower center', ncol=8, fontsize=11);"
   ]
  }
 ],
 "metadata": {
  "kernelspec": {
   "display_name": "Python 3 (ipykernel)",
   "language": "python",
   "name": "python3"
  },
  "language_info": {
   "codemirror_mode": {
    "name": "ipython",
    "version": 3
   },
   "file_extension": ".py",
   "mimetype": "text/x-python",
   "name": "python",
   "nbconvert_exporter": "python",
   "pygments_lexer": "ipython3",
   "version": "3.9.12"
  }
 },
 "nbformat": 4,
 "nbformat_minor": 5
}
